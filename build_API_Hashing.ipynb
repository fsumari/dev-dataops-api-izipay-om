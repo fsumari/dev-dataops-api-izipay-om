{
 "cells": [
  {
   "cell_type": "markdown",
   "id": "7ea3aa05-4126-40ce-8b63-f8a42285cfdc",
   "metadata": {},
   "source": [
    "# Variables"
   ]
  },
  {
   "cell_type": "markdown",
   "id": "869d3e76-2afc-4d1e-92d3-7e1554c9b3d5",
   "metadata": {
    "jp-MarkdownHeadingCollapsed": true,
    "tags": []
   },
   "source": [
    "## DEV"
   ]
  },
  {
   "cell_type": "code",
   "execution_count": 1,
   "id": "9a040c10-48be-4825-8e9b-c5eac71e4a72",
   "metadata": {
    "tags": []
   },
   "outputs": [
    {
     "name": "stdout",
     "output_type": "stream",
     "text": [
      "Overwriting .env-dev\n"
     ]
    }
   ],
   "source": [
    "%%writefile .env\n",
    "\n",
    "GCP_PROJECT_ID=dev-izipay-data-storage\n",
    "\n",
    "SECRET_TOKEN=izi-token-7rMVpUvdo8T3BlbkFJvlPEtwcw\n",
    "\n",
    "DEPLOY_SERVICE_ACCOUNT=dev-data-storage-onemarketer@dev-izipay-data-storage.iam.gserviceaccount.com\n",
    "DEPLOY_SERVICE_NAME=dev-izi-hashing-api-v1"
   ]
  },
  {
   "cell_type": "markdown",
   "id": "95d32fe7-0246-4fc6-9fdc-fe0bdafd93d9",
   "metadata": {},
   "source": [
    "## PRD"
   ]
  },
  {
   "cell_type": "code",
   "execution_count": 1,
   "id": "340810a5-d903-48b3-8ffa-90b349103b1f",
   "metadata": {
    "tags": []
   },
   "outputs": [
    {
     "name": "stdout",
     "output_type": "stream",
     "text": [
      "Overwriting .env\n"
     ]
    }
   ],
   "source": [
    "%%writefile .env\n",
    "\n",
    "GCP_PROJECT_ID=prd-izipay-advanced-analytics\n",
    "\n",
    "SECRET_TOKEN=prd-izipay-token-7rMVpUvdo8T3BlbkFJvlPEtwcw\n",
    "\n",
    "DEPLOY_SERVICE_ACCOUNT=prd-dataops-apis-onemarketer@prd-izipay-advanced-analytics.iam.gserviceaccount.com\n",
    "DEPLOY_SERVICE_NAME=prd-izipay-hashing-api-v0.1"
   ]
  },
  {
   "cell_type": "markdown",
   "id": "8ee61f44-1a48-4b93-a3d1-76cf4a6e97c1",
   "metadata": {},
   "source": [
    "# Get Variables"
   ]
  },
  {
   "cell_type": "code",
   "execution_count": 2,
   "id": "c681fdba-f3ab-43fa-af57-290f46e9d3db",
   "metadata": {
    "tags": []
   },
   "outputs": [
    {
     "data": {
      "text/plain": [
       "('prd-izipay-token-7rMVpUvdo8T3BlbkFJvlPEtwcw',\n",
       " 'prd-dataops-apis-onemarketer@prd-izipay-advanced-analytics.iam.gserviceaccount.com',\n",
       " 'prd-izipay-hashing-api-v0.1')"
      ]
     },
     "execution_count": 2,
     "metadata": {},
     "output_type": "execute_result"
    }
   ],
   "source": [
    "import os\n",
    "from dotenv import load_dotenv\n",
    "\n",
    "load_dotenv(\".env\")\n",
    "\n",
    "GCP_PROJECT_ID = os.getenv('GCP_PROJECT_ID')\n",
    "SECRET_TOKEN = os.getenv('SECRET_TOKEN')\n",
    "\n",
    "DEPLOY_SERVICE_ACCOUNT = os.getenv('DEPLOY_SERVICE_ACCOUNT')\n",
    "DEPLOY_SERVICE_NAME = os.getenv('DEPLOY_SERVICE_NAME')\n",
    "\n",
    "#    --service-account $DEPLOY_SERVICE_ACCOUNT \\\n",
    "SECRET_TOKEN, DEPLOY_SERVICE_ACCOUNT, DEPLOY_SERVICE_NAME"
   ]
  },
  {
   "cell_type": "markdown",
   "id": "495b72a4-abe1-4c33-82b1-58743237c0c5",
   "metadata": {
    "tags": []
   },
   "source": [
    "# API Chat"
   ]
  },
  {
   "cell_type": "code",
   "execution_count": 3,
   "id": "444a1166-4baf-40b9-a179-fc92e5f5bc9d",
   "metadata": {
    "tags": []
   },
   "outputs": [],
   "source": [
    "DIRECTORY='service_api'\n",
    "!mkdir -p $DIRECTORY"
   ]
  },
  {
   "cell_type": "code",
   "execution_count": 4,
   "id": "13b0fe09-c3b3-46a5-b311-fd917e8cf311",
   "metadata": {
    "tags": []
   },
   "outputs": [
    {
     "name": "stdout",
     "output_type": "stream",
     "text": [
      "Writing service_api/requirements.txt\n"
     ]
    }
   ],
   "source": [
    "%%writefile $DIRECTORY/requirements.txt\n",
    "numpy==1.26.4\n",
    "pandas==2.2.2\n",
    "urllib3==1.26.16\n",
    "requests\n",
    "fastapi\n",
    "pydantic\n",
    "uvicorn\n",
    "google-cloud-bigquery\n",
    "google-cloud-firestore\n",
    "gunicorn==20.1.0"
   ]
  },
  {
   "cell_type": "code",
   "execution_count": 16,
   "id": "af8e7959-3ebf-47a1-b275-cd420da1821d",
   "metadata": {
    "tags": []
   },
   "outputs": [
    {
     "name": "stdout",
     "output_type": "stream",
     "text": [
      "Overwriting service_api/Dockerfile\n"
     ]
    }
   ],
   "source": [
    "%%writefile $DIRECTORY/Dockerfile\n",
    "\n",
    "# Start from a base image\n",
    "FROM python:3.11\n",
    "\n",
    "ENV PYTHONUNBUFFERED True\n",
    "#ENV PATH=\"/root/.local/bin:${PATH}\"\n",
    "\n",
    "# Set the working directory\n",
    "WORKDIR /app\n",
    "\n",
    "# Copy the requirements file into the container\n",
    "COPY requirements.txt requirements.txt\n",
    "\n",
    "# Install the required packages\n",
    "RUN pip install --upgrade pip\n",
    "RUN pip install --no-cache-dir -r requirements.txt\n",
    "\n",
    "# Expose the app port\n",
    "# EXPOSE 80\n",
    "ENV PORT=80\n",
    "EXPOSE $PORT\n",
    "\n",
    "COPY . ./\n",
    "# Run command\n",
    "# CMD [\"uvicorn\", \"app:app\", \"--host\", \"0.0.0.0\", \"--port\", $PORT]\n",
    "CMD exec uvicorn main:app --host 0.0.0.0 --port ${PORT}"
   ]
  },
  {
   "cell_type": "code",
   "execution_count": 17,
   "id": "4e374946-3318-4d21-999e-70720ff53cac",
   "metadata": {
    "tags": []
   },
   "outputs": [
    {
     "name": "stdout",
     "output_type": "stream",
     "text": [
      "Overwriting service_api/deploy.sh\n"
     ]
    }
   ],
   "source": [
    "%%writefile $DIRECTORY/deploy.sh\n",
    "\n",
    "export $(xargs < ../.env)\n",
    "\n",
    "PROJECT_ID=$GCP_PROJECT_ID\n",
    "\n",
    "DEPLOY_SERVICE_ACCOUNT=$DEPLOY_SERVICE_ACCOUNT\n",
    "DEPLOY_SERVICE_NAME=$DEPLOY_SERVICE_NAME\n",
    "\n",
    "REGION='us-central1'\n",
    "CLOUD_RUN_PROJECT_NAME=$DEPLOY_SERVICE_NAME\n",
    "\n",
    "echo $CLOUD_RUN_PROJECT_NAME\n",
    "echo $REGION\n",
    "echo $DEPLOY_SERVICE_ACCOUNT\n",
    "echo 'project id-> ' $PROJECT_ID\n",
    "\n",
    "gcloud run deploy ${CLOUD_RUN_PROJECT_NAME} \\\n",
    "    --region $REGION \\\n",
    "    --project $PROJECT_ID \\\n",
    "    --allow-unauthenticated \\\n",
    "    --cpu-boost \\\n",
    "    --cpu=1 \\\n",
    "    --memory=0.5G \\\n",
    "    --min-instances=0 \\\n",
    "    --max-instances=5 \\\n",
    "    --service-account $DEPLOY_SERVICE_ACCOUNT \\\n",
    "    --set-env-vars=\"GCP_PROJECT_ID=$PROJECT_ID\" \\\n",
    "    --set-env-vars=\"SECRET_TOKEN=$SECRET_TOKEN\" \\\n",
    "    --verbosity=debug \\\n",
    "    --source .\n",
    "\n",
    "SERVICE_URL=$(gcloud run services describe $CLOUD_RUN_PROJECT_NAME --format 'value(status.url)' --project $PROJECT_ID --region $REGION)\n",
    "echo \"SERVICE_URL: $SERVICE_URL\""
   ]
  },
  {
   "cell_type": "markdown",
   "id": "da95c070-5f0f-483c-9070-9f3d3be2ffdf",
   "metadata": {},
   "source": [
    "## Scripts"
   ]
  },
  {
   "cell_type": "code",
   "execution_count": 18,
   "id": "b2b0cc34-77b5-47d4-8261-8a7365820af9",
   "metadata": {
    "tags": []
   },
   "outputs": [
    {
     "name": "stdout",
     "output_type": "stream",
     "text": [
      "Overwriting service_api/utils.py\n"
     ]
    }
   ],
   "source": [
    "%%writefile $DIRECTORY/utils.py\n",
    "from google.cloud import firestore\n",
    "import hashlib\n",
    "from datetime import datetime, date\n",
    "from typing import Optional, Dict, List\n",
    "import uuid\n",
    "\n",
    "class FirestoreLogs:\n",
    "    def __init__(self, project_id:str, database_id:str, collection_name: str = \"logs\"):\n",
    "        \"\"\"\n",
    "        Inicializa la conexión con Firestore.\n",
    "        \n",
    "        Args:\n",
    "            collection_name (str): Nombre de la colección en Firestore\n",
    "        \"\"\"\n",
    "        self.db = firestore.Client(project=project_id, database=database_id)\n",
    "        self.collection = self.db.collection(collection_name)\n",
    "    \n",
    "    def _hash_ruc(self, ruc: str) -> str:\n",
    "        \"\"\"\n",
    "        Procesa el RUC para determinar el código del tipo de RUC (COD_TIP_RUC)\n",
    "        y calcula el hash final (INTER_HASH_URC).\n",
    "\n",
    "        Parámetros:\n",
    "            ruc (str): Número de RUC.\n",
    "\n",
    "        Retorna:\n",
    "            dict: Un diccionario con el RUC original, COD_TIP_RUC e INTER_HASH_URC.\n",
    "        \"\"\"\n",
    "        # Convertir a cadena y eliminar espacios\n",
    "        ruc = str(ruc).strip()\n",
    "\n",
    "        # Determinar el código del tipo de RUC (COD_TIP_RUC)\n",
    "        if len(ruc) == 8:\n",
    "            cod_tip_ruc = '01'\n",
    "        elif len(ruc) == 9 or (10 <= len(ruc) <= 12 and ruc[0] == '0'):\n",
    "            cod_tip_ruc = '02'\n",
    "        elif len(ruc) == 11 and ruc[:2] in ['20', '17', '15', '10', '12', '11']:\n",
    "            cod_tip_ruc = '03'\n",
    "        else:\n",
    "            cod_tip_ruc = '06'\n",
    "\n",
    "        # Rellenar el RUC con ceros a la izquierda hasta 15 caracteres\n",
    "        padded_ruc = cod_tip_ruc + ruc.zfill(15)\n",
    "\n",
    "        # Calcular el hash SHA256 anidado\n",
    "        inner_hash = hashlib.sha256(padded_ruc.encode()).hexdigest().upper()\n",
    "        inter_hash_urc = hashlib.sha256(inner_hash.encode()).hexdigest().upper()\n",
    "\n",
    "        # Retornar los resultados\n",
    "        # Calcular y retornar el hash SHA256\n",
    "        return inter_hash_urc\n",
    "\n",
    "    def store_log(self, ruc: str) -> Dict[str, str]:\n",
    "        \"\"\"\n",
    "        Almacena un nuevo log en Firestore usando un ID único.\n",
    "        \n",
    "        Args:\n",
    "            ruc (str): RUC a almacenar\n",
    "            \n",
    "        Returns:\n",
    "            Dict[str, str]: Datos almacenados incluyendo el hash generado\n",
    "        \"\"\"\n",
    "        \n",
    "        ruc_hash = self._hash_ruc(ruc)\n",
    "        \n",
    "        log_data = {\n",
    "            'timestamp_consulta': datetime.now(),\n",
    "            'ruc': ruc,\n",
    "            'ruc_hasheado': ruc_hash,\n",
    "            'process_date': date.today().strftime(\"%d-%m-%Y\"),\n",
    "            'record_source': 'API_IZIPAY',\n",
    "            'load_date': datetime.now(),\n",
    "            'creation_user': 'ETL_USER'\n",
    "        }\n",
    "        \n",
    "        # Generar ID único para cada log\n",
    "        doc_id = str(uuid.uuid4())\n",
    "        self.collection.document(doc_id).set(log_data)\n",
    "        \n",
    "        return ruc_hash, log_data\n",
    "    \n",
    "    def get_ruc_by_hash(self, ruc_hash: str) -> List[Dict]:\n",
    "        \"\"\"\n",
    "        Busca todos los registros asociados a un hash de RUC.\n",
    "        \n",
    "        Args:\n",
    "            ruc_hash (str): Hash del RUC a buscar\n",
    "            \n",
    "        Returns:\n",
    "            List[Dict]: Lista de todos los registros encontrados, ordenados por fecha\n",
    "        \"\"\"\n",
    "        docs = (self.collection\n",
    "                .where('ruc_hasheado', '==', ruc_hash)\n",
    "                .order_by('fecha_process', direction=firestore.Query.DESCENDING)\n",
    "                .stream())\n",
    "        \n",
    "        return [doc.to_dict() for doc in docs]\n",
    "    \n",
    "    def get_latest_ruc_by_hash(self, ruc_hash: str) -> Optional[str]:\n",
    "        \"\"\"\n",
    "        Obtiene el RUC más reciente asociado a un hash.\n",
    "        \n",
    "        Args:\n",
    "            ruc_hash (str): Hash del RUC a buscar\n",
    "            \n",
    "        Returns:\n",
    "            Optional[str]: RUC más reciente si se encuentra, None si no existe\n",
    "        \"\"\"\n",
    "        docs = (self.collection\n",
    "                .where('ruc_hasheado', '==', ruc_hash)\n",
    "                .order_by('load_date', direction=firestore.Query.DESCENDING)\n",
    "                .limit(1)\n",
    "                .stream())\n",
    "        \n",
    "        for doc in docs:  # Solo tomará el primer documento\n",
    "            return doc.to_dict().get('ruc')\n",
    "        return None\n",
    "\n",
    "    def get_ruc_history(self, ruc: str) -> List[Dict]:\n",
    "        \"\"\"\n",
    "        Obtiene todo el historial de logs para un RUC específico.\n",
    "        \n",
    "        Args:\n",
    "            ruc (str): RUC del cual obtener el historial\n",
    "            \n",
    "        Returns:\n",
    "            List[Dict]: Lista de todos los logs asociados al RUC\n",
    "        \"\"\"\n",
    "        ruc_hash = self._hash_ruc(ruc)\n",
    "        return self.get_ruc_by_hash(ruc_hash)"
   ]
  },
  {
   "cell_type": "code",
   "execution_count": 19,
   "id": "527a54ba-9372-4510-876f-3e047084f9d9",
   "metadata": {
    "tags": []
   },
   "outputs": [
    {
     "name": "stdout",
     "output_type": "stream",
     "text": [
      "Overwriting service_api/main.py\n"
     ]
    }
   ],
   "source": [
    "%%writefile $DIRECTORY/main.py\n",
    "import os\n",
    "import json\n",
    "import time\n",
    "import requests\n",
    "from pydantic import BaseModel, validator\n",
    "\n",
    "from typing import Optional as OptionalType\n",
    "\n",
    "from fastapi import FastAPI, Depends\n",
    "from fastapi.responses import StreamingResponse\n",
    "from fastapi.middleware.cors import CORSMiddleware\n",
    "from fastapi import FastAPI, Header, HTTPException, Request\n",
    "\n",
    "from starlette.middleware.base import BaseHTTPMiddleware\n",
    "import logging\n",
    "\n",
    "import hashlib\n",
    "\n",
    "from google.cloud import bigquery\n",
    "from datetime import datetime\n",
    "\n",
    "from utils import FirestoreLogs\n",
    "\n",
    "app = FastAPI(title=\"Hashing API\",\n",
    "              description=\"\"\"Convertir a hash un RUC\"\"\",\n",
    "              version=\"0.0.1\"\n",
    "             )\n",
    "\n",
    "# Reemplaza con tu IP fija.\n",
    "class IPRestrictionMiddleware(BaseHTTPMiddleware):\n",
    "    def __init__(self, app: FastAPI, authorized_ips: list[str]):\n",
    "        super().__init__(app)\n",
    "        self.authorized_ips = authorized_ips\n",
    "\n",
    "    async def dispatch(self, request: Request, call_next):\n",
    "        # Imprimimos todas las posibles fuentes de IP\n",
    "        print(\"X-Forwarded-For:\", request.headers.get(\"X-Forwarded-For\"))\n",
    "        print(\"X-Real-IP:\", request.headers.get(\"X-Real-IP\"))\n",
    "        print(\"client.host:\", request.client.host)\n",
    "        \n",
    "        client_ip = request.headers.get(\"X-Forwarded-For\", request.client.host)\n",
    "        if isinstance(client_ip, str) and \",\" in client_ip:\n",
    "            client_ip = client_ip.split(\",\")[0].strip()\n",
    "        \n",
    "        print(\"IP detectada:\", client_ip)\n",
    "        print(\"IPs autorizadas:\", self.authorized_ips)\n",
    "\n",
    "        if client_ip not in self.authorized_ips:\n",
    "            raise HTTPException(\n",
    "                status_code=403,\n",
    "                detail=f\"Acceso denegado para IP: {client_ip}\"\n",
    "            )\n",
    "\n",
    "        return await call_next(request)\n",
    "\n",
    "# Uso con múltiples IPs\n",
    "\n",
    "# IPs de prueba en local\n",
    "#AUTHORIZED_IPS = [\"127.0.0.1\", \"190.239.73.213\"]\n",
    "\n",
    "# AUTHORIZED_IPS = [\"PRD OM\", \"OM DEV CHATBOT\"]\n",
    "AUTHORIZED_IPS = [\"35.232.156.102\", \"190.113.29.10\"]\n",
    "origins = [\"*\"]\n",
    "\n",
    "# Middlewares\n",
    "app.add_middleware(\n",
    "    CORSMiddleware,\n",
    "    allow_origins=origins,\n",
    "    allow_credentials=True,\n",
    "    allow_methods=[\"*\"],\n",
    "    allow_headers=[\"*\"],\n",
    ")\n",
    "\n",
    "app.add_middleware(\n",
    "    IPRestrictionMiddleware,\n",
    "    authorized_ips=AUTHORIZED_IPS\n",
    ")\n",
    "\n",
    "class RequestChatModel(BaseModel):\n",
    "    input: str \n",
    "\n",
    "# @app.before_request\n",
    "# def restrict_ip():\n",
    "#     # Obtén la IP del cliente (usa X-Forwarded-For si estás detrás de un proxy)\n",
    "#     client_ip = request.headers.get(\"X-Forwarded-For\", request.remote_addr)\n",
    "#     # Verifica si la IP es autorizada\n",
    "#     if client_ip != AUTHORIZED_IP:\n",
    "#         return jsonify({\"error\": \"Acceso denegado\"}, 403)\n",
    "\n",
    "# Home page\n",
    "@app.get(\"/\")\n",
    "def home( token: str = Header(None)):\n",
    "    if token is None or token != SECRET_TOKEN:\n",
    "        raise HTTPException(status_code=401, detail=\"Token inválido\")\n",
    "    return {\"message\": \"API Hashing Ruc Izipay\", \"model_version\": 0.1}\n",
    "\n",
    "@app.post(\"/hashing\")\n",
    "def api_hashing(payload: RequestChatModel, token: str = Header(None)):\n",
    "    \n",
    "    if token is None or token != SECRET_TOKEN:\n",
    "        raise HTTPException(status_code=401, detail=\"Token inválido\")\n",
    "    \n",
    "    # Get Data\n",
    "    data = payload.dict()\n",
    "    # print('Payload:', data)\n",
    "    \n",
    "    data_input = data.get('input')\n",
    "    \n",
    "    try:\n",
    "        response = {}\n",
    "        \n",
    "        ruc_hasheado, _ = api_logger.store_log(ruc=data_input)        \n",
    "        \n",
    "        response[\"ruc_hash\"] = ruc_hasheado\n",
    "        \n",
    "        return response\n",
    "    except Exception as e:\n",
    "        print(\"error-> \",str(e))\n",
    "        raise HTTPException(status_code=401, detail=str(e))\n",
    "\n",
    "@app.post(\"/unhashing\")\n",
    "def api_unhushing(payload: RequestChatModel, token: str = Header(None)):\n",
    "    \n",
    "    if token is None or token != SECRET_TOKEN:\n",
    "        raise HTTPException(status_code=401, detail=\"Token inválido\")\n",
    "    \n",
    "    # Get Data\n",
    "    data = payload.dict()\n",
    "    # print('Payload:', data)\n",
    "    \n",
    "    data_input = data.get('input')\n",
    "    \n",
    "    try:\n",
    "        response = {}\n",
    "        \n",
    "        ruc = api_logger.get_latest_ruc_by_hash(ruc_hash=data_input)        \n",
    "        \n",
    "        response[\"ruc\"] = ruc\n",
    "        \n",
    "        return response\n",
    "    except Exception as e:\n",
    "        print(\"error-> \",str(e))\n",
    "        raise HTTPException(status_code=401, detail=str(e))\n",
    "\n",
    "# Startup\n",
    "async def startup_event():\n",
    "    global SECRET_TOKEN    \n",
    "    global GCP_PROJECT_ID\n",
    "    global api_logger\n",
    "    \n",
    "    GCP_PROJECT_ID = os.getenv('GCP_PROJECT_ID', \"my-secret-token\")\n",
    "    SECRET_TOKEN = os.getenv('SECRET_TOKEN', \"my-secret-token\")\n",
    "    \n",
    "    api_logger = FirestoreLogs(project_id=GCP_PROJECT_ID, database_id='logs-hushing-ruc',collection_name=\"collection-logs-hushing-ruc\")\n",
    "    \n",
    "    # Inicializar el cliente\n",
    "    #client = bigquery.Client(project=GCP_PROJECT_ID)\n",
    "\n",
    "    # cred = credentials.ApplicationDefault()\n",
    "    # firebase_admin.initialize_app(cred, {'projectId': GCP_PROJECT_ID,})\n",
    "    # FS_CLIENT = firestore.client()\n",
    "    print(\"La aplicación se está iniciando\")    \n",
    "    \n",
    "app.add_event_handler(\"startup\", startup_event)"
   ]
  },
  {
   "cell_type": "markdown",
   "id": "accf6a8a-586f-4150-9df6-df55de306ea1",
   "metadata": {},
   "source": [
    "#### Steps:\n",
    "\n",
    "```sh\n",
    "cd ./service_api\n",
    "export $(xargs < ../.env-dev)\n",
    "uvicorn main:app --reload\n",
    "```"
   ]
  },
  {
   "cell_type": "markdown",
   "id": "ee3307c8-295b-4e06-b82e-0114b9140def",
   "metadata": {
    "tags": []
   },
   "source": [
    "# Testing"
   ]
  },
  {
   "cell_type": "code",
   "execution_count": 20,
   "id": "96eae05f-ca27-44b1-98e7-2b9695310eb1",
   "metadata": {
    "tags": []
   },
   "outputs": [],
   "source": [
    "import os\n",
    "import json\n",
    "import requests\n",
    "\n",
    "secret_token = os.getenv('SECRET_TOKEN')\n",
    "\n",
    "# Localhost\n",
    "#url = \"http://127.0.0.1:8000\"\n",
    "url = \"https://dev-izi-hashing-api-v1-3cvhiueqqa-uc.a.run.app\""
   ]
  },
  {
   "cell_type": "code",
   "execution_count": 21,
   "id": "e322fd63-5ad6-4bc2-8b93-430a1a88fc5b",
   "metadata": {
    "tags": []
   },
   "outputs": [
    {
     "data": {
      "text/plain": [
       "'izi-token-7rMVpUvdo8T3BlbkFJvlPEtwcw'"
      ]
     },
     "execution_count": 21,
     "metadata": {},
     "output_type": "execute_result"
    }
   ],
   "source": [
    "secret_token"
   ]
  },
  {
   "cell_type": "markdown",
   "id": "27379138-009d-4958-970e-02c7179458e3",
   "metadata": {},
   "source": [
    "## Ping"
   ]
  },
  {
   "cell_type": "code",
   "execution_count": 22,
   "id": "b3dd0e90-95e5-486d-87c7-a092b39f4191",
   "metadata": {
    "tags": []
   },
   "outputs": [],
   "source": [
    "endpoint = f\"{url}\"\n",
    "headers = {'token': secret_token}\n",
    "response = requests.get(endpoint, headers=headers)"
   ]
  },
  {
   "cell_type": "code",
   "execution_count": 23,
   "id": "a34b6d23-9631-4116-909c-4cea92621094",
   "metadata": {
    "tags": []
   },
   "outputs": [
    {
     "data": {
      "text/plain": [
       "<Response [500]>"
      ]
     },
     "execution_count": 23,
     "metadata": {},
     "output_type": "execute_result"
    }
   ],
   "source": [
    "response"
   ]
  },
  {
   "cell_type": "code",
   "execution_count": 24,
   "id": "ac246d1a-90c1-45ad-b445-912d84f4957a",
   "metadata": {},
   "outputs": [
    {
     "ename": "JSONDecodeError",
     "evalue": "Expecting value: line 1 column 1 (char 0)",
     "output_type": "error",
     "traceback": [
      "\u001b[0;31m---------------------------------------------------------------------------\u001b[0m",
      "\u001b[0;31mJSONDecodeError\u001b[0m                           Traceback (most recent call last)",
      "File \u001b[0;32m/opt/conda/envs/dev-ia/lib/python3.11/site-packages/requests/models.py:974\u001b[0m, in \u001b[0;36mResponse.json\u001b[0;34m(self, **kwargs)\u001b[0m\n\u001b[1;32m    973\u001b[0m \u001b[38;5;28;01mtry\u001b[39;00m:\n\u001b[0;32m--> 974\u001b[0m     \u001b[38;5;28;01mreturn\u001b[39;00m \u001b[43mcomplexjson\u001b[49m\u001b[38;5;241;43m.\u001b[39;49m\u001b[43mloads\u001b[49m\u001b[43m(\u001b[49m\u001b[38;5;28;43mself\u001b[39;49m\u001b[38;5;241;43m.\u001b[39;49m\u001b[43mtext\u001b[49m\u001b[43m,\u001b[49m\u001b[43m \u001b[49m\u001b[38;5;241;43m*\u001b[39;49m\u001b[38;5;241;43m*\u001b[39;49m\u001b[43mkwargs\u001b[49m\u001b[43m)\u001b[49m\n\u001b[1;32m    975\u001b[0m \u001b[38;5;28;01mexcept\u001b[39;00m JSONDecodeError \u001b[38;5;28;01mas\u001b[39;00m e:\n\u001b[1;32m    976\u001b[0m     \u001b[38;5;66;03m# Catch JSON-related errors and raise as requests.JSONDecodeError\u001b[39;00m\n\u001b[1;32m    977\u001b[0m     \u001b[38;5;66;03m# This aliases json.JSONDecodeError and simplejson.JSONDecodeError\u001b[39;00m\n",
      "File \u001b[0;32m/opt/conda/envs/dev-ia/lib/python3.11/json/__init__.py:346\u001b[0m, in \u001b[0;36mloads\u001b[0;34m(s, cls, object_hook, parse_float, parse_int, parse_constant, object_pairs_hook, **kw)\u001b[0m\n\u001b[1;32m    343\u001b[0m \u001b[38;5;28;01mif\u001b[39;00m (\u001b[38;5;28mcls\u001b[39m \u001b[38;5;129;01mis\u001b[39;00m \u001b[38;5;28;01mNone\u001b[39;00m \u001b[38;5;129;01mand\u001b[39;00m object_hook \u001b[38;5;129;01mis\u001b[39;00m \u001b[38;5;28;01mNone\u001b[39;00m \u001b[38;5;129;01mand\u001b[39;00m\n\u001b[1;32m    344\u001b[0m         parse_int \u001b[38;5;129;01mis\u001b[39;00m \u001b[38;5;28;01mNone\u001b[39;00m \u001b[38;5;129;01mand\u001b[39;00m parse_float \u001b[38;5;129;01mis\u001b[39;00m \u001b[38;5;28;01mNone\u001b[39;00m \u001b[38;5;129;01mand\u001b[39;00m\n\u001b[1;32m    345\u001b[0m         parse_constant \u001b[38;5;129;01mis\u001b[39;00m \u001b[38;5;28;01mNone\u001b[39;00m \u001b[38;5;129;01mand\u001b[39;00m object_pairs_hook \u001b[38;5;129;01mis\u001b[39;00m \u001b[38;5;28;01mNone\u001b[39;00m \u001b[38;5;129;01mand\u001b[39;00m \u001b[38;5;129;01mnot\u001b[39;00m kw):\n\u001b[0;32m--> 346\u001b[0m     \u001b[38;5;28;01mreturn\u001b[39;00m \u001b[43m_default_decoder\u001b[49m\u001b[38;5;241;43m.\u001b[39;49m\u001b[43mdecode\u001b[49m\u001b[43m(\u001b[49m\u001b[43ms\u001b[49m\u001b[43m)\u001b[49m\n\u001b[1;32m    347\u001b[0m \u001b[38;5;28;01mif\u001b[39;00m \u001b[38;5;28mcls\u001b[39m \u001b[38;5;129;01mis\u001b[39;00m \u001b[38;5;28;01mNone\u001b[39;00m:\n",
      "File \u001b[0;32m/opt/conda/envs/dev-ia/lib/python3.11/json/decoder.py:337\u001b[0m, in \u001b[0;36mJSONDecoder.decode\u001b[0;34m(self, s, _w)\u001b[0m\n\u001b[1;32m    333\u001b[0m \u001b[38;5;250m\u001b[39m\u001b[38;5;124;03m\"\"\"Return the Python representation of ``s`` (a ``str`` instance\u001b[39;00m\n\u001b[1;32m    334\u001b[0m \u001b[38;5;124;03mcontaining a JSON document).\u001b[39;00m\n\u001b[1;32m    335\u001b[0m \n\u001b[1;32m    336\u001b[0m \u001b[38;5;124;03m\"\"\"\u001b[39;00m\n\u001b[0;32m--> 337\u001b[0m obj, end \u001b[38;5;241m=\u001b[39m \u001b[38;5;28;43mself\u001b[39;49m\u001b[38;5;241;43m.\u001b[39;49m\u001b[43mraw_decode\u001b[49m\u001b[43m(\u001b[49m\u001b[43ms\u001b[49m\u001b[43m,\u001b[49m\u001b[43m \u001b[49m\u001b[43midx\u001b[49m\u001b[38;5;241;43m=\u001b[39;49m\u001b[43m_w\u001b[49m\u001b[43m(\u001b[49m\u001b[43ms\u001b[49m\u001b[43m,\u001b[49m\u001b[43m \u001b[49m\u001b[38;5;241;43m0\u001b[39;49m\u001b[43m)\u001b[49m\u001b[38;5;241;43m.\u001b[39;49m\u001b[43mend\u001b[49m\u001b[43m(\u001b[49m\u001b[43m)\u001b[49m\u001b[43m)\u001b[49m\n\u001b[1;32m    338\u001b[0m end \u001b[38;5;241m=\u001b[39m _w(s, end)\u001b[38;5;241m.\u001b[39mend()\n",
      "File \u001b[0;32m/opt/conda/envs/dev-ia/lib/python3.11/json/decoder.py:355\u001b[0m, in \u001b[0;36mJSONDecoder.raw_decode\u001b[0;34m(self, s, idx)\u001b[0m\n\u001b[1;32m    354\u001b[0m \u001b[38;5;28;01mexcept\u001b[39;00m \u001b[38;5;167;01mStopIteration\u001b[39;00m \u001b[38;5;28;01mas\u001b[39;00m err:\n\u001b[0;32m--> 355\u001b[0m     \u001b[38;5;28;01mraise\u001b[39;00m JSONDecodeError(\u001b[38;5;124m\"\u001b[39m\u001b[38;5;124mExpecting value\u001b[39m\u001b[38;5;124m\"\u001b[39m, s, err\u001b[38;5;241m.\u001b[39mvalue) \u001b[38;5;28;01mfrom\u001b[39;00m \u001b[38;5;28;01mNone\u001b[39;00m\n\u001b[1;32m    356\u001b[0m \u001b[38;5;28;01mreturn\u001b[39;00m obj, end\n",
      "\u001b[0;31mJSONDecodeError\u001b[0m: Expecting value: line 1 column 1 (char 0)",
      "\nDuring handling of the above exception, another exception occurred:\n",
      "\u001b[0;31mJSONDecodeError\u001b[0m                           Traceback (most recent call last)",
      "Cell \u001b[0;32mIn[24], line 1\u001b[0m\n\u001b[0;32m----> 1\u001b[0m \u001b[43mresponse\u001b[49m\u001b[38;5;241;43m.\u001b[39;49m\u001b[43mjson\u001b[49m\u001b[43m(\u001b[49m\u001b[43m)\u001b[49m\n",
      "File \u001b[0;32m/opt/conda/envs/dev-ia/lib/python3.11/site-packages/requests/models.py:978\u001b[0m, in \u001b[0;36mResponse.json\u001b[0;34m(self, **kwargs)\u001b[0m\n\u001b[1;32m    974\u001b[0m     \u001b[38;5;28;01mreturn\u001b[39;00m complexjson\u001b[38;5;241m.\u001b[39mloads(\u001b[38;5;28mself\u001b[39m\u001b[38;5;241m.\u001b[39mtext, \u001b[38;5;241m*\u001b[39m\u001b[38;5;241m*\u001b[39mkwargs)\n\u001b[1;32m    975\u001b[0m \u001b[38;5;28;01mexcept\u001b[39;00m JSONDecodeError \u001b[38;5;28;01mas\u001b[39;00m e:\n\u001b[1;32m    976\u001b[0m     \u001b[38;5;66;03m# Catch JSON-related errors and raise as requests.JSONDecodeError\u001b[39;00m\n\u001b[1;32m    977\u001b[0m     \u001b[38;5;66;03m# This aliases json.JSONDecodeError and simplejson.JSONDecodeError\u001b[39;00m\n\u001b[0;32m--> 978\u001b[0m     \u001b[38;5;28;01mraise\u001b[39;00m RequestsJSONDecodeError(e\u001b[38;5;241m.\u001b[39mmsg, e\u001b[38;5;241m.\u001b[39mdoc, e\u001b[38;5;241m.\u001b[39mpos)\n",
      "\u001b[0;31mJSONDecodeError\u001b[0m: Expecting value: line 1 column 1 (char 0)"
     ]
    }
   ],
   "source": [
    "response.json()"
   ]
  },
  {
   "cell_type": "markdown",
   "id": "9b4908bd-8f44-40c5-ad56-827fd21bac36",
   "metadata": {},
   "source": [
    "## Hashing"
   ]
  },
  {
   "cell_type": "code",
   "execution_count": 53,
   "id": "916529a4-e511-44a9-8bb3-43f37ccd221a",
   "metadata": {
    "tags": []
   },
   "outputs": [],
   "source": [
    "endpoint = f\"{url}/hashing\"\n",
    "headers = {'token': secret_token}"
   ]
  },
  {
   "cell_type": "code",
   "execution_count": 54,
   "id": "65518cf3-59f0-46ec-b209-c66eceb72bae",
   "metadata": {
    "tags": []
   },
   "outputs": [],
   "source": [
    "ruc = '10474840552'"
   ]
  },
  {
   "cell_type": "code",
   "execution_count": 55,
   "id": "58ed6552-77e5-4163-922f-5276cc8d272d",
   "metadata": {
    "tags": []
   },
   "outputs": [],
   "source": [
    "data = {}\n",
    "data[\"input\"] = ruc"
   ]
  },
  {
   "cell_type": "code",
   "execution_count": 56,
   "id": "5ecd7d47-e12d-4bf8-be78-87246713cfd2",
   "metadata": {
    "tags": []
   },
   "outputs": [],
   "source": [
    "response = requests.post(endpoint, json=data, headers=headers)"
   ]
  },
  {
   "cell_type": "code",
   "execution_count": 57,
   "id": "34a993e5-87d5-4bd8-8e07-0c325d4afc5e",
   "metadata": {
    "tags": []
   },
   "outputs": [],
   "source": [
    "response_result = response.json()"
   ]
  },
  {
   "cell_type": "code",
   "execution_count": 58,
   "id": "b2251ae6-412e-46c9-81ce-3f9c91c8a545",
   "metadata": {
    "tags": []
   },
   "outputs": [
    {
     "data": {
      "text/plain": [
       "{'ruc_hash': '327D350D0D82F81F03C6E5629E031F2541609FF9218A5B6AE7196A4794551535'}"
      ]
     },
     "execution_count": 58,
     "metadata": {},
     "output_type": "execute_result"
    }
   ],
   "source": [
    "response_result"
   ]
  },
  {
   "cell_type": "code",
   "execution_count": 59,
   "id": "227dd843-97fb-470b-9e3e-c67ba43adeca",
   "metadata": {},
   "outputs": [
    {
     "name": "stdout",
     "output_type": "stream",
     "text": [
      "ruc:  10474840552\n",
      "ruc hasheado:  327D350D0D82F81F03C6E5629E031F2541609FF9218A5B6AE7196A4794551535\n"
     ]
    }
   ],
   "source": [
    "print(\"ruc: \", data[\"input\"])\n",
    "print(\"ruc hasheado: \", response_result[\"ruc_hash\"])"
   ]
  },
  {
   "cell_type": "markdown",
   "id": "28311cfa-ba60-49bf-9286-edfc9de77478",
   "metadata": {},
   "source": [
    "## UnHashing"
   ]
  },
  {
   "cell_type": "code",
   "execution_count": 41,
   "id": "f8a97ed1-b6ae-467f-bfc8-5976b4abcf97",
   "metadata": {
    "tags": []
   },
   "outputs": [],
   "source": [
    "endpoint = f\"{url}/unhashing\"\n",
    "headers = {'token': secret_token}"
   ]
  },
  {
   "cell_type": "code",
   "execution_count": 42,
   "id": "309fa65b-bf15-43ee-8fe7-46efe9c2a5c9",
   "metadata": {
    "tags": []
   },
   "outputs": [],
   "source": [
    "hush_ruc = '327D350D0D82F81F03C6E5629E031F2541609FF9218A5B6AE7196A4794551535'"
   ]
  },
  {
   "cell_type": "code",
   "execution_count": 43,
   "id": "f68bfe25-7242-418d-81b4-56a66b65f349",
   "metadata": {
    "tags": []
   },
   "outputs": [],
   "source": [
    "data = {}\n",
    "data[\"input\"] = hush_ruc"
   ]
  },
  {
   "cell_type": "code",
   "execution_count": 44,
   "id": "07ae21e7-24ac-4978-bd43-8d52666be768",
   "metadata": {
    "tags": []
   },
   "outputs": [],
   "source": [
    "response = requests.post(endpoint, json=data, headers=headers)"
   ]
  },
  {
   "cell_type": "code",
   "execution_count": 45,
   "id": "2c92d65f-28c7-42a4-aedc-d637eed0a01f",
   "metadata": {
    "tags": []
   },
   "outputs": [],
   "source": [
    "response_result = response.json()"
   ]
  },
  {
   "cell_type": "code",
   "execution_count": 46,
   "id": "bc0a72f5-10a4-46fd-af09-2b1b5d2af7e5",
   "metadata": {
    "tags": []
   },
   "outputs": [
    {
     "data": {
      "text/plain": [
       "{'ruc': '10474840552'}"
      ]
     },
     "execution_count": 46,
     "metadata": {},
     "output_type": "execute_result"
    }
   ],
   "source": [
    "response_result"
   ]
  },
  {
   "cell_type": "code",
   "execution_count": 47,
   "id": "499d1461-6227-446d-b8d9-6d2e85875a3a",
   "metadata": {
    "tags": []
   },
   "outputs": [
    {
     "name": "stdout",
     "output_type": "stream",
     "text": [
      "ruc husheado:  327D350D0D82F81F03C6E5629E031F2541609FF9218A5B6AE7196A4794551535\n",
      "ruc:  10474840552\n"
     ]
    }
   ],
   "source": [
    "print(\"ruc husheado: \", data[\"input\"])\n",
    "print(\"ruc: \", response_result[\"ruc\"])"
   ]
  },
  {
   "cell_type": "code",
   "execution_count": null,
   "id": "5a0e0cdf-e810-4da0-9cfb-2d9777dfc547",
   "metadata": {},
   "outputs": [],
   "source": []
  },
  {
   "cell_type": "code",
   "execution_count": null,
   "id": "62137a86-39db-4c6c-bacf-8060b676592f",
   "metadata": {},
   "outputs": [],
   "source": []
  }
 ],
 "metadata": {
  "environment": {
   "kernel": "dev-ia",
   "name": "workbench-notebooks.m126",
   "type": "gcloud",
   "uri": "us-docker.pkg.dev/deeplearning-platform-release/gcr.io/workbench-notebooks:m126"
  },
  "kernelspec": {
   "display_name": "Python (Dev IA) (Local)",
   "language": "python",
   "name": "dev-ia"
  },
  "language_info": {
   "codemirror_mode": {
    "name": "ipython",
    "version": 3
   },
   "file_extension": ".py",
   "mimetype": "text/x-python",
   "name": "python",
   "nbconvert_exporter": "python",
   "pygments_lexer": "ipython3",
   "version": "3.11.10"
  },
  "widgets": {
   "application/vnd.jupyter.widget-state+json": {
    "state": {},
    "version_major": 2,
    "version_minor": 0
   }
  }
 },
 "nbformat": 4,
 "nbformat_minor": 5
}
